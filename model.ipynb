{
 "cells": [
  {
   "cell_type": "code",
   "execution_count": 2,
   "id": "7658cc00-3b51-40b2-81e7-89852865f7f5",
   "metadata": {},
   "outputs": [],
   "source": [
    "import pickle as pkl\n",
    "import torch\n",
    "import gym as gym\n",
    "import numpy as np"
   ]
  },
  {
   "cell_type": "code",
   "execution_count": 27,
   "id": "ae671265-3f74-4ea7-8d76-aabd49205a29",
   "metadata": {},
   "outputs": [],
   "source": [
    "# main/actor/0/dense/bias (DT_FLOAT) [512]\n",
    "# main/actor/0/dense/kernel (DT_FLOAT) [84,512]\n",
    "# main/actor/1/dense/bias (DT_FLOAT) [256]\n",
    "# main/actor/1/dense/kernel (DT_FLOAT) [512,256]\n",
    "# main/actor/logstd/bias (DT_FLOAT) [12]\n",
    "# main/actor/mean/dense/bias (DT_FLOAT) [12]\n",
    "# main/actor/mean/dense/kernel (DT_FLOAT) [256,12]"
   ]
  },
  {
   "cell_type": "code",
   "execution_count": 28,
   "id": "7eead5c5-793a-4bf1-8fc4-0880178b41c5",
   "metadata": {},
   "outputs": [
    {
     "name": "stdout",
     "output_type": "stream",
     "text": [
      "w_0: torch.Size([512, 84])\n",
      "b_0: torch.Size([512])\n",
      "w_1: torch.Size([256, 512])\n",
      "b_1: torch.Size([256])\n",
      "w_mean: torch.Size([12, 256])\n",
      "b_mean: torch.Size([12])\n",
      "b_std: torch.Size([12])\n"
     ]
    }
   ],
   "source": [
    "# print(f\"w_0: {w_0.shape}\")\n",
    "# print(f\"b_0: {b_0.shape}\")\n",
    "# print(f\"w_1: {w_1.shape}\")\n",
    "# print(f\"b_1: {b_1.shape}\")\n",
    "# print(f\"w_mean: {w_mean.shape}\")\n",
    "# print(f\"b_mean: {b_mean.shape}\")\n",
    "# print(f\"b_std: {b_std.shape}\")"
   ]
  },
  {
   "cell_type": "raw",
   "id": "c1496169-76f2-4966-9860-4d0d3ebc0bc5",
   "metadata": {},
   "source": [
    "# observation:  [[1.06596638e-02 -4.36880985e-02  1.50585829e-05  7.14926189e-03 1.06596638e-02 -4.36880985e-02  1.50585829e-05  7.14926189e-03 1.06596638e-02 -4.36880985e-02  1.50585829e-05  7.14926189e-03 0.00000000e+00  0.00000000e+00  0.00000000e+00  0.00000000e+00 0.00000000e+00  0.00000000e+00  0.00000000e+00  0.00000000e+00 0.00000000e+00  0.00000000e+00  0.00000000e+00  0.00000000e+00 0.00000000e+00  0.00000000e+00  0.00000000e+00  0.00000000e+00 0.00000000e+00  0.00000000e+00  0.00000000e+00  0.00000000e+00 0.00000000e+00  0.00000000e+00  0.00000000e+00  0.00000000e+00 0.00000000e+00  0.00000000e+00  0.00000000e+00  0.00000000e+00 0.00000000e+00  0.00000000e+00  0.00000000e+00  0.00000000e+00 0.00000000e+00  0.00000000e+00  0.00000000e+00  0.00000000e+00 -2.92678475e-01  1.10223246e+00 -2.65736890e+00  2.50114709e-01 1.15086460e+00 -2.66086650e+00 -3.23189527e-01  1.12085938e+00 -2.67494226e+00  2.62883842e-01  1.12452579e+00 -2.68033648e+00 -2.92678475e-01  1.10223246e+00 -2.65736890e+00  2.50114709e-01 1.15086460e+00 -2.66086650e+00 -3.23189527e-01  1.12085938e+00 -2.67494226e+00  2.62883842e-01  1.12452579e+00 -2.68033648e+00 -2.92678475e-01  1.10223246e+00 -2.65736890e+00  2.50114709e-01 1.15086460e+00 -2.66086650e+00 -3.23189527e-01  1.12085938e+00 -2.67494226e+00  2.62883842e-01  1.12452579e+00 -2.68033648e+00]]\n",
    "\n",
    "# action: tensor([[ 0.2932, -0.5078, -0.6358, -0.9699,  0.9041, -0.8037, -0.6109, -0.2439, 0.8008, -0.9493, -0.9660, -0.6903]], grad_fn=<TanhBackward0>)\n",
    "# orig action:  [-0.59512997 -1.7298914   0.03665851 -0.70346016 -1.8998375  -0.79841995 -0.09894164  2.6849961  -0.59932446 -0.4341147  -1.7428617   0.5702265 ]"
   ]
  },
  {
   "cell_type": "code",
   "execution_count": 3,
   "id": "ae58e54a-e9d2-4f36-b04d-6f70ea90ed8c",
   "metadata": {},
   "outputs": [],
   "source": [
    "# s_obs = \"[[1.06596638e-02 -4.36880985e-02  1.50585829e-05  7.14926189e-03 1.06596638e-02 -4.36880985e-02  1.50585829e-05  7.14926189e-03 1.06596638e-02 -4.36880985e-02  1.50585829e-05  7.14926189e-03 0.00000000e+00  0.00000000e+00  0.00000000e+00  0.00000000e+00 0.00000000e+00  0.00000000e+00  0.00000000e+00  0.00000000e+00 0.00000000e+00  0.00000000e+00  0.00000000e+00  0.00000000e+00 0.00000000e+00  0.00000000e+00  0.00000000e+00  0.00000000e+00 0.00000000e+00  0.00000000e+00  0.00000000e+00  0.00000000e+00 0.00000000e+00  0.00000000e+00  0.00000000e+00  0.00000000e+00 0.00000000e+00  0.00000000e+00  0.00000000e+00  0.00000000e+00 0.00000000e+00  0.00000000e+00  0.00000000e+00  0.00000000e+00 0.00000000e+00  0.00000000e+00  0.00000000e+00  0.00000000e+00 -2.92678475e-01  1.10223246e+00 -2.65736890e+00  2.50114709e-01 1.15086460e+00 -2.66086650e+00 -3.23189527e-01  1.12085938e+00 -2.67494226e+00  2.62883842e-01  1.12452579e+00 -2.68033648e+00 -2.92678475e-01  1.10223246e+00 -2.65736890e+00  2.50114709e-01 1.15086460e+00 -2.66086650e+00 -3.23189527e-01  1.12085938e+00 -2.67494226e+00  2.62883842e-01  1.12452579e+00 -2.68033648e+00 -2.92678475e-01  1.10223246e+00 -2.65736890e+00  2.50114709e-01 1.15086460e+00 -2.66086650e+00 -3.23189527e-01  1.12085938e+00 -2.67494226e+00  2.62883842e-01  1.12452579e+00 -2.68033648e+00]]\"\n",
    "\n",
    "# for _ in range (5):\n",
    "#     s_obs = s_obs.replace(\"  \", \" \")\n",
    "# s_obs = s_obs.replace(\" \", \",\")\n",
    "# with open(\"obsfile.txt\", \"w\") as f:\n",
    "#     f.write(s_obs)\n",
    "\n",
    "obs = np.array([[1.06596638e-02,-4.36880985e-02,1.50585829e-05,7.14926189e-03,1.06596638e-02,-4.36880985e-02,1.50585829e-05,7.14926189e-03,1.06596638e-02,-4.36880985e-02,1.50585829e-05,7.14926189e-03,0.00000000e+00,0.00000000e+00,0.00000000e+00,0.00000000e+00,0.00000000e+00,0.00000000e+00,0.00000000e+00,0.00000000e+00,0.00000000e+00,0.00000000e+00,0.00000000e+00,0.00000000e+00,0.00000000e+00,0.00000000e+00,0.00000000e+00,0.00000000e+00,0.00000000e+00,0.00000000e+00,0.00000000e+00,0.00000000e+00,0.00000000e+00,0.00000000e+00,0.00000000e+00,0.00000000e+00,0.00000000e+00,0.00000000e+00,0.00000000e+00,0.00000000e+00,0.00000000e+00,0.00000000e+00,0.00000000e+00,0.00000000e+00,0.00000000e+00,0.00000000e+00,0.00000000e+00,0.00000000e+00,-2.92678475e-01,1.10223246e+00,-2.65736890e+00,2.50114709e-01,1.15086460e+00,-2.66086650e+00,-3.23189527e-01,1.12085938e+00,-2.67494226e+00,2.62883842e-01,1.12452579e+00,-2.68033648e+00,-2.92678475e-01,1.10223246e+00,-2.65736890e+00,2.50114709e-01,1.15086460e+00,-2.66086650e+00,-3.23189527e-01,1.12085938e+00,-2.67494226e+00,2.62883842e-01,1.12452579e+00,-2.68033648e+00,-2.92678475e-01,1.10223246e+00,-2.65736890e+00,2.50114709e-01,1.15086460e+00,-2.66086650e+00,-3.23189527e-01,1.12085938e+00,-2.67494226e+00,2.62883842e-01,1.12452579e+00,-2.68033648e+00]])"
   ]
  },
  {
   "cell_type": "code",
   "execution_count": 4,
   "id": "7ac13b15-1f59-48ee-819a-24f31834f584",
   "metadata": {},
   "outputs": [],
   "source": [
    "target_act = np.array([-0.59512997, -1.7298914, 0.03665851, -0.70346016, -1.8998375, -0.79841995, -0.09894164, 2.6849961, -0.59932446, -0.4341147, -1.7428617, 0.5702265 ])"
   ]
  },
  {
   "cell_type": "code",
   "execution_count": 5,
   "id": "85fedc0e-31ed-4a5e-9efc-4fc77a3ee6a8",
   "metadata": {},
   "outputs": [],
   "source": [
    "pi = np.pi\n",
    "two_pi = 2 * pi\n",
    "two_thousand_pi = 1000 * two_pi\n",
    "\n",
    "high = np.array(([two_pi, ] * 2 + [two_thousand_pi, ] * 2) * 3 + [1.0, ] * 36 + [pi, ] * 36)\n",
    "low = -high\n",
    "\n",
    "act_high = np.array([3.2114058, 13.155161, 3.5348086, 3.2114058, 13.155161, 3.5348086, 3.2114058, 13.155161, 3.5348086, 3.2114058, 13.155161, 3.5348086])\n",
    "act_low = -act_high"
   ]
  },
  {
   "cell_type": "code",
   "execution_count": 24,
   "id": "613ef60d-22d8-472d-bd11-9d532d6036eb",
   "metadata": {},
   "outputs": [],
   "source": [
    "class ResetModel(torch.nn.Module):\n",
    "\n",
    "    def __init__(self):\n",
    "        super().__init__()\n",
    "\n",
    "        with open(\"weights.pkl\", \"rb\") as f:\n",
    "            weights = pkl.load(f)\n",
    "\n",
    "        w_0 = torch.Tensor(weights[\"main/actor/0/dense/kernel\"]).T\n",
    "        b_0 = torch.Tensor(weights[\"main/actor/0/dense/bias\"])\n",
    "        w_1 = torch.Tensor(weights[\"main/actor/1/dense/kernel\"]).T\n",
    "        b_1 = torch.Tensor(weights[\"main/actor/1/dense/bias\"])\n",
    "        w_mean = torch.Tensor(weights[\"main/actor/mean/dense/kernel\"]).T\n",
    "        b_mean = torch.Tensor(weights[\"main/actor/mean/dense/bias\"])\n",
    "        b_std = torch.Tensor(weights[\"main/actor/logstd/bias\"])\n",
    "\n",
    "        # observation_space = gym.spaces.Box(low=-1.0, high=1.0, shape=(84, ))\n",
    "        # high = observation_space.high\n",
    "        # low = observation_space.low\n",
    "\n",
    "        self.obs_mean = torch.Tensor(weights[\"resource/s_norm/mean\"])\n",
    "        self.obs_std = torch.Tensor(weights[\"resource/s_norm/std\"])\n",
    "        self.obs_mean.requires_grad = False\n",
    "        self.obs_std.requires_grad = False\n",
    "\n",
    "        self.act_mean = torch.Tensor(weights[\"resource/a_norm/mean\"])\n",
    "        self.act_std = torch.Tensor(weights[\"resource/a_norm/std\"])\n",
    "        self.act_mean.requires_grad = False\n",
    "        self.act_std.requires_grad = False\n",
    "\n",
    "        self.fc0 = torch.nn.Linear(in_features=84, out_features=512, bias=True)\n",
    "        self.fc1 = torch.nn.Linear(in_features=512, out_features=256, bias=True)\n",
    "        self.mu = torch.nn.Linear(in_features=256, out_features=12, bias=True)\n",
    "\n",
    "        # fill weights\n",
    "\n",
    "        self.fc0.weight = torch.nn.Parameter(w_0)\n",
    "        self.fc0.bias = torch.nn.Parameter(b_0)\n",
    "        self.fc1.weight = torch.nn.Parameter(w_1)\n",
    "        self.fc1.bias = torch.nn.Parameter(b_1)\n",
    "        self.mu.weight = torch.nn.Parameter(w_mean)\n",
    "        self.mu.bias = torch.nn.Parameter(b_mean)\n",
    "\n",
    "    def forward(self, x):\n",
    "        # normalize x\n",
    "        x = (x - self.obs_mean) / self.obs_std\n",
    "        # inference\n",
    "        x = torch.nn.functional.relu(self.fc0(x))\n",
    "        x = torch.nn.functional.relu(self.fc1(x))\n",
    "        x = self.mu(x)\n",
    "        x = torch.tanh(x)\n",
    "        # unnormalize output:\n",
    "        x = x * self.act_std + self.act_mean\n",
    "\n",
    "        return x"
   ]
  },
  {
   "cell_type": "code",
   "execution_count": 25,
   "id": "c126027d-a28b-40a2-83e3-d9d853a02ae9",
   "metadata": {},
   "outputs": [],
   "source": [
    "model = ResetModel()"
   ]
  },
  {
   "cell_type": "code",
   "execution_count": 26,
   "id": "c81041c9-a3fd-4908-af5f-9709138242bc",
   "metadata": {},
   "outputs": [
    {
     "name": "stdout",
     "output_type": "stream",
     "text": [
      "result:\n",
      "tensor([[-0.5951, -1.7299,  0.0367, -0.7035, -1.8998, -0.7984, -0.0989,  2.6850,\n",
      "         -0.5993, -0.4341, -1.7429,  0.5702]])\n",
      "\n",
      "expected:\n",
      "tensor([-0.5951, -1.7299,  0.0367, -0.7035, -1.8998, -0.7984, -0.0989,  2.6850,\n",
      "        -0.5993, -0.4341, -1.7429,  0.5702])\n"
     ]
    }
   ],
   "source": [
    "with torch.no_grad():\n",
    "    result = model(torch.Tensor(obs))\n",
    "print(f\"result:\\n{result}\\n\\nexpected:\\n{torch.Tensor(target_act)}\")"
   ]
  },
  {
   "cell_type": "code",
   "execution_count": 17,
   "id": "ee89e715-2448-40a3-b318-07e15920ae94",
   "metadata": {},
   "outputs": [
    {
     "data": {
      "text/plain": [
       "array([ 0.15355109,  0.10605378, -0.09990677,  0.07711993, -0.0755351 ,\n",
       "       -0.11750013, -0.04986651, -0.01949827, -0.03155179,  0.0861546 ,\n",
       "        0.11604203,  0.05634367, -0.0157914 , -0.07788604,  0.12080891,\n",
       "        0.01823236,  0.17470159, -0.12190854,  0.1261829 ,  0.05097049,\n",
       "       -0.06850047, -0.05139183, -0.11558472, -0.10547166, -0.1365947 ,\n",
       "       -0.02511717, -0.04450043, -0.176195  ,  0.09925593,  0.07895605,\n",
       "       -0.16166645, -0.09049367, -0.02240962,  0.04504484, -0.17767791,\n",
       "       -0.10477796, -0.03373881,  0.1141827 ,  0.14354096, -0.14140195,\n",
       "       -0.02814433, -0.00841437, -0.04031008, -0.13807724,  0.18135388,\n",
       "       -0.16665038,  0.08624165,  0.01969892,  0.02126883,  0.13084783,\n",
       "        0.02046132,  0.11859854, -0.14120725, -0.1550895 ,  0.07388838,\n",
       "       -0.1677464 , -0.023197  , -0.18706934,  0.02256899,  0.00770594,\n",
       "       -0.17406484,  0.1047257 ,  0.06806169,  0.02282919,  0.01606287,\n",
       "        0.1072592 ,  0.00050364,  0.08467285, -0.10496008, -0.09211306,\n",
       "       -0.04729007,  0.01661238, -0.01409461,  0.11773561,  0.11440279,\n",
       "       -0.10175884,  0.13821657,  0.14449732,  0.00024222, -0.00365014,\n",
       "       -0.10468131,  0.14422272, -0.16155742,  0.16455586], dtype=float32)"
      ]
     },
     "execution_count": 17,
     "metadata": {},
     "output_type": "execute_result"
    }
   ],
   "source": [
    "with open(\"weights.pkl\", \"rb\") as f:\n",
    "    weights = pkl.load(f)\n",
    "\n",
    "weights[\"resource/s_norm/mean_ph\"]"
   ]
  },
  {
   "cell_type": "code",
   "execution_count": null,
   "id": "3db93df7-1d1c-4301-a112-d3f4447665c6",
   "metadata": {},
   "outputs": [],
   "source": []
  }
 ],
 "metadata": {
  "kernelspec": {
   "display_name": "a1",
   "language": "python",
   "name": "python3"
  },
  "language_info": {
   "codemirror_mode": {
    "name": "ipython",
    "version": 3
   },
   "file_extension": ".py",
   "mimetype": "text/x-python",
   "name": "python",
   "nbconvert_exporter": "python",
   "pygments_lexer": "ipython3",
   "version": "3.9.21"
  }
 },
 "nbformat": 4,
 "nbformat_minor": 5
}
